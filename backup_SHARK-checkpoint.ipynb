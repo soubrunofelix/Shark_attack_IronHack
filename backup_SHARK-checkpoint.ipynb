{
 "cells": [
  {
   "cell_type": "markdown",
   "id": "24108e15",
   "metadata": {},
   "source": [
    "# IRONHACK - BRUNO FÉLIX SCALIONI DA SILVA - DA|PT\n",
    "\n",
    "## PROJECT 01 - Shark Attacks Analysis"
   ]
  },
  {
   "cell_type": "markdown",
   "id": "2b0abc41",
   "metadata": {},
   "source": [
    "# Data Cleaning and Manipulation with Pandas"
   ]
  },
  {
   "cell_type": "markdown",
   "id": "97242f5d",
   "metadata": {},
   "source": [
    "# Overview\n",
    "\n",
    "The main goal of the project is to demonstrate skills applying the knowledge about data manipulation, data cleaning and data wrangling with Python, using the Pandas library.\n",
    "\n"
   ]
  },
  {
   "cell_type": "markdown",
   "id": "aa220490",
   "metadata": {},
   "source": [
    "![title](shark1.jpg)"
   ]
  },
  {
   "cell_type": "markdown",
   "id": "de3ffa5e",
   "metadata": {},
   "source": [
    "Hypothesis to test:\n",
    "\n",
    "- Is Shark Attacks increasing over the years?\n",
    "- Australia locations with highest attack rates.\n",
    "- Months with highest attack rates.\n",
    "- The most dangerous state.\n",
    "- Proving to the australian governament the need for investment in security, hiring *BRUNO SECURITY ENTERPRISES*\n",
    "\n",
    "\n",
    "Data Cleaning Goals: handle libraries; Identify and fill in missing values; Identify and correct incorrect values; Correct incorrect data types; rename and reorder columns; Examine data for potential issues."
   ]
  },
  {
   "cell_type": "code",
   "execution_count": 1,
   "id": "c2e84865",
   "metadata": {},
   "outputs": [],
   "source": [
    "# LIBRARIES\n",
    "\n",
    "import pandas as pd\n",
    "import numpy as np\n",
    "from PIL import Image"
   ]
  },
  {
   "cell_type": "code",
   "execution_count": 2,
   "id": "14d82741",
   "metadata": {},
   "outputs": [],
   "source": [
    "# Importing the DataFrame\n",
    "df = pd.read_csv('C:/Users/bruno/Desktop/Shark Attack/Global Shark Attacks/attacks.csv')"
   ]
  },
  {
   "cell_type": "code",
   "execution_count": 3,
   "id": "1750f285",
   "metadata": {},
   "outputs": [
    {
     "name": "stdout",
     "output_type": "stream",
     "text": [
      "<class 'pandas.core.frame.DataFrame'>\n",
      "RangeIndex: 25723 entries, 0 to 25722\n",
      "Data columns (total 24 columns):\n",
      " #   Column                  Non-Null Count  Dtype  \n",
      "---  ------                  --------------  -----  \n",
      " 0   Case Number             8702 non-null   object \n",
      " 1   Date                    6302 non-null   object \n",
      " 2   Year                    6300 non-null   float64\n",
      " 3   Type                    6298 non-null   object \n",
      " 4   Country                 6252 non-null   object \n",
      " 5   Area                    5847 non-null   object \n",
      " 6   Location                5762 non-null   object \n",
      " 7   Activity                5758 non-null   object \n",
      " 8   Name                    6092 non-null   object \n",
      " 9   Sex                     5737 non-null   object \n",
      " 10  Age                     3471 non-null   object \n",
      " 11  Injury                  6274 non-null   object \n",
      " 12  Fatal (Y/N)             5763 non-null   object \n",
      " 13  Time                    2948 non-null   object \n",
      " 14  Species                 3464 non-null   object \n",
      " 15  Investigator or Source  6285 non-null   object \n",
      " 16  pdf                     6302 non-null   object \n",
      " 17  href formula            6301 non-null   object \n",
      " 18  href                    6302 non-null   object \n",
      " 19  Case Number.1           6302 non-null   object \n",
      " 20  Case Number.2           6302 non-null   object \n",
      " 21  original order          6309 non-null   float64\n",
      " 22  Unnamed: 22             1 non-null      object \n",
      " 23  Unnamed: 23             2 non-null      object \n",
      "dtypes: float64(2), object(22)\n",
      "memory usage: 4.7+ MB\n"
     ]
    },
    {
     "data": {
      "text/plain": [
       "(25723, 24)"
      ]
     },
     "execution_count": 3,
     "metadata": {},
     "output_type": "execute_result"
    }
   ],
   "source": [
    "# Checking the Summary of the DataFrame and the DataFrame shape\n",
    "\n",
    "df.info()\n",
    "df.shape"
   ]
  },
  {
   "cell_type": "code",
   "execution_count": 4,
   "id": "3e4223b3",
   "metadata": {},
   "outputs": [
    {
     "data": {
      "text/plain": [
       "Index(['Case Number', 'Date', 'Year', 'Type', 'Country', 'Area', 'Location',\n",
       "       'Activity', 'Name', 'Sex ', 'Age', 'Injury', 'Fatal (Y/N)', 'Time',\n",
       "       'Species ', 'Investigator or Source', 'pdf', 'href formula', 'href',\n",
       "       'Case Number.1', 'Case Number.2', 'original order', 'Unnamed: 22',\n",
       "       'Unnamed: 23'],\n",
       "      dtype='object')"
      ]
     },
     "execution_count": 4,
     "metadata": {},
     "output_type": "execute_result"
    }
   ],
   "source": [
    "# overviewing all df columns\n",
    "df.columns"
   ]
  },
  {
   "cell_type": "markdown",
   "id": "06d9b5b3",
   "metadata": {},
   "source": [
    "# Removing/Dropping rows and columns unuseful to this analysis"
   ]
  },
  {
   "cell_type": "code",
   "execution_count": 5,
   "id": "17b477ad",
   "metadata": {
    "scrolled": true
   },
   "outputs": [],
   "source": [
    "#removing all rows with no info:\n",
    "df = df.dropna(how='all') \n",
    "\n",
    "#thresh = 0.9 - se 90% da linha for nula, ele dropa\n"
   ]
  },
  {
   "cell_type": "code",
   "execution_count": 6,
   "id": "39733e25",
   "metadata": {},
   "outputs": [],
   "source": [
    "# Dropping columns 'Unnamed: 22' and 'Unnamed: 23', due to all values are null\n",
    "df.drop(columns=['Unnamed: 22','Unnamed: 23'], inplace=True)\n"
   ]
  },
  {
   "cell_type": "code",
   "execution_count": 7,
   "id": "6dc985f7",
   "metadata": {},
   "outputs": [],
   "source": [
    "# Dropping unusable columns in this analysis\n",
    "df.drop(columns=['Case Number', 'Species ', 'Investigator or Source', 'pdf', 'Case Number.1', 'Case Number.2', 'original order'], inplace=True)"
   ]
  },
  {
   "cell_type": "code",
   "execution_count": 255,
   "id": "e3c3317a",
   "metadata": {},
   "outputs": [
    {
     "data": {
      "text/plain": [
       "USA                        2229\n",
       "AUSTRALIA                  1338\n",
       "SOUTH AFRICA                579\n",
       "PAPUA NEW GUINEA            134\n",
       "NEW ZEALAND                 128\n",
       "                           ... \n",
       "INDIAN OCEAN?                 1\n",
       "MEXICO                        1\n",
       "PALESTINIAN TERRITORIES       1\n",
       "GUATEMALA                     1\n",
       "BAY OF BENGAL                 1\n",
       "Name: Country, Length: 212, dtype: int64"
      ]
     },
     "execution_count": 255,
     "metadata": {},
     "output_type": "execute_result"
    }
   ],
   "source": [
    "# Checking total cases in DF\n",
    "df['Country'].value_counts()"
   ]
  },
  {
   "cell_type": "code",
   "execution_count": 256,
   "id": "261fe04a",
   "metadata": {},
   "outputs": [
    {
     "data": {
      "text/plain": [
       "USA                        0.356526\n",
       "AUSTRALIA                  0.214012\n",
       "SOUTH AFRICA               0.092610\n",
       "PAPUA NEW GUINEA           0.021433\n",
       "NEW ZEALAND                0.020473\n",
       "                             ...   \n",
       "INDIAN OCEAN?              0.000160\n",
       "MEXICO                     0.000160\n",
       "PALESTINIAN TERRITORIES    0.000160\n",
       "GUATEMALA                  0.000160\n",
       "BAY OF BENGAL              0.000160\n",
       "Name: Country, Length: 212, dtype: float64"
      ]
     },
     "execution_count": 256,
     "metadata": {},
     "output_type": "execute_result"
    }
   ],
   "source": [
    "df['Country'].value_counts(normalize=True)"
   ]
  },
  {
   "cell_type": "markdown",
   "id": "a491dfab",
   "metadata": {},
   "source": [
    "# Analysing Down Under area"
   ]
  },
  {
   "cell_type": "markdown",
   "id": "d8d3f33f",
   "metadata": {},
   "source": [
    "![title](aussie1.jpg)"
   ]
  },
  {
   "cell_type": "code",
   "execution_count": 9,
   "id": "10da63a8",
   "metadata": {},
   "outputs": [],
   "source": [
    "df_ozzie = df[df['Country'] == 'AUSTRALIA']"
   ]
  },
  {
   "cell_type": "code",
   "execution_count": 10,
   "id": "2bcefaff",
   "metadata": {},
   "outputs": [
    {
     "data": {
      "text/plain": [
       "Index(['Date', 'Year', 'Type', 'Country', 'Area', 'Location', 'Activity',\n",
       "       'Name', 'Sex', 'Age', 'Injury', 'Fatal (Y/N)', 'Time', 'href formula',\n",
       "       'href'],\n",
       "      dtype='object')"
      ]
     },
     "execution_count": 10,
     "metadata": {},
     "output_type": "execute_result"
    }
   ],
   "source": [
    "# Cleaning up empty spaces in columns\n",
    "df_ozzie.columns = [x.strip() for x in df_ozzie.columns]\n",
    "df_ozzie.columns"
   ]
  },
  {
   "cell_type": "markdown",
   "id": "d4c88ad0",
   "metadata": {},
   "source": [
    "## Cleaning up \"Area\" column"
   ]
  },
  {
   "cell_type": "code",
   "execution_count": 11,
   "id": "b0c4b03d",
   "metadata": {},
   "outputs": [],
   "source": [
    "#Checking Area data - before cleaning\n",
    "\n",
    "#df_ozzie[\"Area\"].value_counts()"
   ]
  },
  {
   "cell_type": "code",
   "execution_count": 12,
   "id": "aeb31ac0",
   "metadata": {},
   "outputs": [],
   "source": [
    "# Checking Area rows with NaN \n",
    "#df_ozzie[df_ozzie['Area'].isnull()]"
   ]
  },
  {
   "cell_type": "code",
   "execution_count": 13,
   "id": "d7033ba0",
   "metadata": {},
   "outputs": [],
   "source": [
    "# Removing rows with NaN in Area column\n",
    "\n",
    "df_ozzie = df_ozzie.dropna(subset=['Area'])"
   ]
  },
  {
   "cell_type": "code",
   "execution_count": 14,
   "id": "6ca00084",
   "metadata": {},
   "outputs": [],
   "source": [
    "# function to: clean up empty spaces in Area column / correct area values name / replace similar places into state name (Torres Strait became Queensland)\n",
    "def limpar_area(row):\n",
    "    try:\n",
    "        row = row.strip()\n",
    "        row = row.replace('Westerm', 'Western')\n",
    "        row = row.replace('Torres Strait', 'Queensland')\n",
    "        return row\n",
    "        \n",
    "    except:\n",
    "        return row"
   ]
  },
  {
   "cell_type": "code",
   "execution_count": 15,
   "id": "4f825d4b",
   "metadata": {},
   "outputs": [],
   "source": [
    "df_ozzie[\"Area\"] = df_ozzie[\"Area\"].map(limpar_area)"
   ]
  },
  {
   "cell_type": "code",
   "execution_count": 16,
   "id": "7cf376b4",
   "metadata": {},
   "outputs": [
    {
     "data": {
      "text/plain": [
       "New South Wales                         486\n",
       "Queensland                              384\n",
       "Western Australia                       192\n",
       "South Australia                         104\n",
       "Victoria                                 92\n",
       "Tasmania                                 41\n",
       "Northern Territory                       23\n",
       "Territory of Cocos (Keeling) Islands      1\n",
       "Norfolk Island                            1\n",
       "Name: Area, dtype: int64"
      ]
     },
     "execution_count": 16,
     "metadata": {},
     "output_type": "execute_result"
    }
   ],
   "source": [
    "df_ozzie['Area'].value_counts()"
   ]
  },
  {
   "cell_type": "code",
   "execution_count": 17,
   "id": "33b1e9db",
   "metadata": {},
   "outputs": [],
   "source": [
    "# Removing row Territory of Cocos\n",
    "\n",
    "del_keeling = df_ozzie[df_ozzie[\"Area\"] == 'Territory of Cocos (Keeling) Islands'].index\n",
    "df_ozzie = df_ozzie.drop(del_keeling)"
   ]
  },
  {
   "cell_type": "code",
   "execution_count": 18,
   "id": "7f10d66d",
   "metadata": {},
   "outputs": [],
   "source": [
    "# Removing row Norfolk Island\n",
    "\n",
    "del_norfolk = df_ozzie[df_ozzie['Area'] == 'Norfolk Island'].index\n",
    "df_ozzie = df_ozzie.drop(del_norfolk)"
   ]
  },
  {
   "cell_type": "code",
   "execution_count": 19,
   "id": "5a5461d1",
   "metadata": {},
   "outputs": [
    {
     "data": {
      "text/plain": [
       "New South Wales       486\n",
       "Queensland            384\n",
       "Western Australia     192\n",
       "South Australia       104\n",
       "Victoria               92\n",
       "Tasmania               41\n",
       "Northern Territory     23\n",
       "Name: Area, dtype: int64"
      ]
     },
     "execution_count": 19,
     "metadata": {},
     "output_type": "execute_result"
    }
   ],
   "source": [
    "# checking Area after union\n",
    "\n",
    "df_ozzie['Area'].value_counts()"
   ]
  },
  {
   "cell_type": "code",
   "execution_count": 257,
   "id": "225cf1ed",
   "metadata": {},
   "outputs": [
    {
     "data": {
      "text/plain": [
       "New South Wales       0.359592\n",
       "Queensland            0.290083\n",
       "Western Australia     0.158480\n",
       "South Australia       0.081557\n",
       "Victoria              0.063021\n",
       "Tasmania              0.027804\n",
       "Northern Territory    0.019462\n",
       "Name: Area, dtype: float64"
      ]
     },
     "execution_count": 257,
     "metadata": {},
     "output_type": "execute_result"
    }
   ],
   "source": [
    "df_ozzie['Area'].value_counts(normalize=True)"
   ]
  },
  {
   "cell_type": "markdown",
   "id": "675a67ba",
   "metadata": {},
   "source": [
    "## Cleaning up \"Date\" Column"
   ]
  },
  {
   "cell_type": "code",
   "execution_count": 20,
   "id": "c94b1809",
   "metadata": {},
   "outputs": [
    {
     "data": {
      "text/plain": [
       "27-Dec-2008    4\n",
       "13-Mar-1977    3\n",
       "Before 1903    2\n",
       "25-Apr-2018    2\n",
       "1876           2\n",
       "              ..\n",
       "13-Dec-1987    1\n",
       "16-Apr-1906    1\n",
       "15-Jan-1922    1\n",
       "12-Dec-2009    1\n",
       "22-Oct-2008    1\n",
       "Name: Date, Length: 1267, dtype: int64"
      ]
     },
     "execution_count": 20,
     "metadata": {},
     "output_type": "execute_result"
    }
   ],
   "source": [
    "df_ozzie['Date'].value_counts()"
   ]
  },
  {
   "cell_type": "code",
   "execution_count": 21,
   "id": "fa3a922b",
   "metadata": {},
   "outputs": [],
   "source": [
    "# Creating a column \"Month\" and cleaning characters from 'Date'\n",
    "\n",
    "df_ozzie['Month'] = df_ozzie['Date'].apply(lambda x: str(x).replace('-', '').replace(' ',''))"
   ]
  },
  {
   "cell_type": "code",
   "execution_count": 22,
   "id": "68217f73",
   "metadata": {},
   "outputs": [],
   "source": [
    "import re"
   ]
  },
  {
   "cell_type": "code",
   "execution_count": 23,
   "id": "5cd5617e",
   "metadata": {},
   "outputs": [],
   "source": [
    "df_ozzie['a'] = df_ozzie[\"Date\"]"
   ]
  },
  {
   "cell_type": "code",
   "execution_count": 24,
   "id": "b97cd829",
   "metadata": {},
   "outputs": [
    {
     "data": {
      "text/plain": [
       "3               Jun\n",
       "5               Jun\n",
       "10              May\n",
       "14              May\n",
       "16              May\n",
       "           ...     \n",
       "6277    Before 1927\n",
       "6282     1920 -1923\n",
       "6296    Before 1906\n",
       "6297    Before 1903\n",
       "6298    Before 1903\n",
       "Name: a, Length: 1322, dtype: object"
      ]
     },
     "execution_count": 24,
     "metadata": {},
     "output_type": "execute_result"
    }
   ],
   "source": [
    "def find_month1(row):\n",
    "    try:\n",
    "        return re.findall(\"\\d{2}-? ?([A-Z]\\w{2})-\\d{2}\",row)[0]\n",
    "    except:\n",
    "        return row\n",
    "def find_month2(row):\n",
    "    try:\n",
    "        return re.findall(\"\\d{2}-([A-Z]\\w{2}) \\d{2}\",row)[0]\n",
    "    except:\n",
    "        return row\n",
    "def find_month3(row):\n",
    "    try:\n",
    "        return re.findall(\"([A-Z]\\w{2}) ?-?\\d{4}\",row)[0]\n",
    "    except:\n",
    "        return row\n",
    "df_ozzie['a'].apply(find_month1).apply(find_month2).apply(find_month3)\n"
   ]
  },
  {
   "cell_type": "code",
   "execution_count": 25,
   "id": "e79bf071",
   "metadata": {},
   "outputs": [],
   "source": [
    "df_ozzie['a'] = df_ozzie['a'].apply(find_month1).apply(find_month2).apply(find_month3)"
   ]
  },
  {
   "cell_type": "code",
   "execution_count": 26,
   "id": "3c82df7c",
   "metadata": {},
   "outputs": [
    {
     "data": {
      "text/plain": [
       "Jan              208\n",
       "Dec              179\n",
       "Feb              148\n",
       "Nov              131\n",
       "Mar              126\n",
       "                ... \n",
       "Ca. 1962           1\n",
       "Ca . 1825          1\n",
       "Ca. 1929           1\n",
       "Ca. mid-1870s      1\n",
       "1988               1\n",
       "Name: a, Length: 69, dtype: int64"
      ]
     },
     "execution_count": 26,
     "metadata": {},
     "output_type": "execute_result"
    }
   ],
   "source": [
    "df_ozzie['a'].value_counts()"
   ]
  },
  {
   "cell_type": "code",
   "execution_count": 27,
   "id": "8bb55333",
   "metadata": {},
   "outputs": [
    {
     "data": {
      "text/html": [
       "<div>\n",
       "<style scoped>\n",
       "    .dataframe tbody tr th:only-of-type {\n",
       "        vertical-align: middle;\n",
       "    }\n",
       "\n",
       "    .dataframe tbody tr th {\n",
       "        vertical-align: top;\n",
       "    }\n",
       "\n",
       "    .dataframe thead th {\n",
       "        text-align: right;\n",
       "    }\n",
       "</style>\n",
       "<table border=\"1\" class=\"dataframe\">\n",
       "  <thead>\n",
       "    <tr style=\"text-align: right;\">\n",
       "      <th></th>\n",
       "      <th>Date</th>\n",
       "      <th>Year</th>\n",
       "      <th>Type</th>\n",
       "      <th>Country</th>\n",
       "      <th>Area</th>\n",
       "      <th>Location</th>\n",
       "      <th>Activity</th>\n",
       "      <th>Name</th>\n",
       "      <th>Sex</th>\n",
       "      <th>Age</th>\n",
       "      <th>Injury</th>\n",
       "      <th>Fatal (Y/N)</th>\n",
       "      <th>Time</th>\n",
       "      <th>href formula</th>\n",
       "      <th>href</th>\n",
       "      <th>Month</th>\n",
       "      <th>a</th>\n",
       "    </tr>\n",
       "  </thead>\n",
       "  <tbody>\n",
       "    <tr>\n",
       "      <th>3</th>\n",
       "      <td>08-Jun-2018</td>\n",
       "      <td>2018.0</td>\n",
       "      <td>Unprovoked</td>\n",
       "      <td>AUSTRALIA</td>\n",
       "      <td>New South Wales</td>\n",
       "      <td>Arrawarra Headland</td>\n",
       "      <td>Surfing</td>\n",
       "      <td>male</td>\n",
       "      <td>M</td>\n",
       "      <td>NaN</td>\n",
       "      <td>Minor injury to lower leg</td>\n",
       "      <td>N</td>\n",
       "      <td>NaN</td>\n",
       "      <td>http://sharkattackfile.net/spreadsheets/pdf_di...</td>\n",
       "      <td>http://sharkattackfile.net/spreadsheets/pdf_di...</td>\n",
       "      <td>08Jun2018</td>\n",
       "      <td>Jun</td>\n",
       "    </tr>\n",
       "  </tbody>\n",
       "</table>\n",
       "</div>"
      ],
      "text/plain": [
       "          Date    Year        Type    Country             Area  \\\n",
       "3  08-Jun-2018  2018.0  Unprovoked  AUSTRALIA  New South Wales   \n",
       "\n",
       "             Location Activity  Name Sex  Age                     Injury  \\\n",
       "3  Arrawarra Headland  Surfing  male   M  NaN  Minor injury to lower leg   \n",
       "\n",
       "  Fatal (Y/N) Time                                       href formula  \\\n",
       "3           N  NaN  http://sharkattackfile.net/spreadsheets/pdf_di...   \n",
       "\n",
       "                                                href      Month    a  \n",
       "3  http://sharkattackfile.net/spreadsheets/pdf_di...  08Jun2018  Jun  "
      ]
     },
     "execution_count": 27,
     "metadata": {},
     "output_type": "execute_result"
    }
   ],
   "source": [
    "# Selecting 'a' values greater than 41, getting only the months jan-dec\n",
    "df_ozzie = df_ozzie.groupby('a').filter(lambda x : len(x)>41)\n",
    "df_ozzie.head(1)"
   ]
  },
  {
   "cell_type": "code",
   "execution_count": 28,
   "id": "bf1e5aaa",
   "metadata": {},
   "outputs": [
    {
     "data": {
      "text/plain": [
       "Index(['Date', 'Year', 'Type', 'Country', 'Area', 'Location', 'Activity',\n",
       "       'Name', 'Sex', 'Age', 'Injury', 'Fatal (Y/N)', 'Time', 'href formula',\n",
       "       'href', 'Month', 'month'],\n",
       "      dtype='object')"
      ]
     },
     "execution_count": 28,
     "metadata": {},
     "output_type": "execute_result"
    }
   ],
   "source": [
    "# Renaming 'a' column to month\n",
    "\n",
    "df_ozzie = df_ozzie.rename(columns = {'a':'month'})\n",
    "df_ozzie.columns"
   ]
  },
  {
   "cell_type": "markdown",
   "id": "b75678fd",
   "metadata": {},
   "source": [
    "## Cleaning up Year column"
   ]
  },
  {
   "cell_type": "code",
   "execution_count": 29,
   "id": "af8039ec",
   "metadata": {},
   "outputs": [
    {
     "data": {
      "text/plain": [
       "2016.0    32\n",
       "2015.0    31\n",
       "2014.0    29\n",
       "2009.0    28\n",
       "2012.0    26\n",
       "          ..\n",
       "1945.0     1\n",
       "1872.0     1\n",
       "1861.0     1\n",
       "1803.0     1\n",
       "1867.0     1\n",
       "Name: Year, Length: 174, dtype: int64"
      ]
     },
     "execution_count": 29,
     "metadata": {},
     "output_type": "execute_result"
    }
   ],
   "source": [
    "df_ozzie['Year'].value_counts()"
   ]
  },
  {
   "cell_type": "code",
   "execution_count": 30,
   "id": "484f5580",
   "metadata": {},
   "outputs": [
    {
     "data": {
      "text/plain": [
       "array([2018., 2017.,   nan, 2016., 2015., 2014., 2013., 2012., 2011.,\n",
       "       2010., 2009., 2008., 2007., 2006., 2005., 2004., 2003., 2002.,\n",
       "       2001., 2000., 1999., 1998., 1997., 1996., 1995., 1994., 1993.,\n",
       "       1992., 1991., 1990., 1989., 1988., 1987., 1986., 1985., 1984.,\n",
       "       1983., 1982., 1981., 1980., 1979., 1978., 1977., 1976., 1975.,\n",
       "       1974., 1973., 1972., 1971., 1970., 1969., 1968., 1967., 1966.,\n",
       "       1965., 1964., 1963., 1962., 1961., 1960., 1959., 1958., 1957.,\n",
       "       1956., 1955., 1954., 1953., 1952., 1951., 1950., 1949., 1948.,\n",
       "       1947., 1946., 1945., 1944., 1943., 1942., 1941., 1940., 1939.,\n",
       "       1938., 1937., 1936., 1935., 1934., 1933., 1932., 1931., 1930.,\n",
       "       1929., 1928., 1927., 1926., 1925., 1924., 1923., 1922., 1921.,\n",
       "       1920., 1919., 1918., 1917., 1916., 1915., 1914., 1913., 1912.,\n",
       "       1911., 1910., 1909., 1908., 1907., 1906., 1905., 1904., 1903.,\n",
       "       1902., 1901., 1900., 1899., 1898., 1896., 1895., 1894., 1893.,\n",
       "       1892., 1891., 1890., 1889., 1888., 1887., 1886., 1885., 1884.,\n",
       "       1883., 1882., 1881., 1880., 1879., 1878., 1877., 1876., 1875.,\n",
       "       1874., 1873., 1872., 1871., 1870., 1869., 1868., 1867., 1866.,\n",
       "       1863., 1862., 1861., 1860., 1858., 1856., 1855., 1853., 1852.,\n",
       "       1849., 1847., 1845., 1841., 1840., 1839., 1837., 1832., 1831.,\n",
       "       1807., 1804., 1803., 1788.])"
      ]
     },
     "execution_count": 30,
     "metadata": {},
     "output_type": "execute_result"
    }
   ],
   "source": [
    "df_ozzie['Year'].unique()"
   ]
  },
  {
   "cell_type": "code",
   "execution_count": 31,
   "id": "884838d6",
   "metadata": {},
   "outputs": [],
   "source": [
    "# Filling nan values with 0 value\n",
    "\n",
    "df_ozzie[\"Year1\"] = df_ozzie[\"Year\"].fillna(0).astype(int)"
   ]
  },
  {
   "cell_type": "code",
   "execution_count": 32,
   "id": "1280f151",
   "metadata": {},
   "outputs": [
    {
     "data": {
      "text/plain": [
       "array([2018, 2017,    0, 2016, 2015, 2014, 2013, 2012, 2011, 2010, 2009,\n",
       "       2008, 2007, 2006, 2005, 2004, 2003, 2002, 2001, 2000, 1999, 1998,\n",
       "       1997, 1996, 1995, 1994, 1993, 1992, 1991, 1990, 1989, 1988, 1987,\n",
       "       1986, 1985, 1984, 1983, 1982, 1981, 1980, 1979, 1978, 1977, 1976,\n",
       "       1975, 1974, 1973, 1972, 1971, 1970, 1969, 1968, 1967, 1966, 1965,\n",
       "       1964, 1963, 1962, 1961, 1960, 1959, 1958, 1957, 1956, 1955, 1954,\n",
       "       1953, 1952, 1951, 1950, 1949, 1948, 1947, 1946, 1945, 1944, 1943,\n",
       "       1942, 1941, 1940, 1939, 1938, 1937, 1936, 1935, 1934, 1933, 1932,\n",
       "       1931, 1930, 1929, 1928, 1927, 1926, 1925, 1924, 1923, 1922, 1921,\n",
       "       1920, 1919, 1918, 1917, 1916, 1915, 1914, 1913, 1912, 1911, 1910,\n",
       "       1909, 1908, 1907, 1906, 1905, 1904, 1903, 1902, 1901, 1900, 1899,\n",
       "       1898, 1896, 1895, 1894, 1893, 1892, 1891, 1890, 1889, 1888, 1887,\n",
       "       1886, 1885, 1884, 1883, 1882, 1881, 1880, 1879, 1878, 1877, 1876,\n",
       "       1875, 1874, 1873, 1872, 1871, 1870, 1869, 1868, 1867, 1866, 1863,\n",
       "       1862, 1861, 1860, 1858, 1856, 1855, 1853, 1852, 1849, 1847, 1845,\n",
       "       1841, 1840, 1839, 1837, 1832, 1831, 1807, 1804, 1803, 1788])"
      ]
     },
     "execution_count": 32,
     "metadata": {},
     "output_type": "execute_result"
    }
   ],
   "source": [
    "df_ozzie['Year1'].unique()"
   ]
  },
  {
   "cell_type": "code",
   "execution_count": 33,
   "id": "add0915b",
   "metadata": {},
   "outputs": [],
   "source": [
    "# Reducing DF to years greater than 1918\n",
    "df_ozzie = df_ozzie[df_ozzie['Year1'] > 1918]"
   ]
  },
  {
   "cell_type": "code",
   "execution_count": 34,
   "id": "395e9ad3",
   "metadata": {},
   "outputs": [
    {
     "data": {
      "text/html": [
       "<div>\n",
       "<style scoped>\n",
       "    .dataframe tbody tr th:only-of-type {\n",
       "        vertical-align: middle;\n",
       "    }\n",
       "\n",
       "    .dataframe tbody tr th {\n",
       "        vertical-align: top;\n",
       "    }\n",
       "\n",
       "    .dataframe thead th {\n",
       "        text-align: right;\n",
       "    }\n",
       "</style>\n",
       "<table border=\"1\" class=\"dataframe\">\n",
       "  <thead>\n",
       "    <tr style=\"text-align: right;\">\n",
       "      <th></th>\n",
       "      <th>Date</th>\n",
       "      <th>Year</th>\n",
       "      <th>Type</th>\n",
       "      <th>Country</th>\n",
       "      <th>Area</th>\n",
       "      <th>Location</th>\n",
       "      <th>Activity</th>\n",
       "      <th>Name</th>\n",
       "      <th>Sex</th>\n",
       "      <th>Age</th>\n",
       "      <th>Injury</th>\n",
       "      <th>Fatal (Y/N)</th>\n",
       "      <th>Time</th>\n",
       "      <th>href formula</th>\n",
       "      <th>href</th>\n",
       "      <th>Month</th>\n",
       "      <th>month</th>\n",
       "      <th>Year1</th>\n",
       "    </tr>\n",
       "  </thead>\n",
       "  <tbody>\n",
       "    <tr>\n",
       "      <th>3</th>\n",
       "      <td>08-Jun-2018</td>\n",
       "      <td>2018.0</td>\n",
       "      <td>Unprovoked</td>\n",
       "      <td>AUSTRALIA</td>\n",
       "      <td>New South Wales</td>\n",
       "      <td>Arrawarra Headland</td>\n",
       "      <td>Surfing</td>\n",
       "      <td>male</td>\n",
       "      <td>M</td>\n",
       "      <td>NaN</td>\n",
       "      <td>Minor injury to lower leg</td>\n",
       "      <td>N</td>\n",
       "      <td>NaN</td>\n",
       "      <td>http://sharkattackfile.net/spreadsheets/pdf_di...</td>\n",
       "      <td>http://sharkattackfile.net/spreadsheets/pdf_di...</td>\n",
       "      <td>08Jun2018</td>\n",
       "      <td>Jun</td>\n",
       "      <td>2018</td>\n",
       "    </tr>\n",
       "  </tbody>\n",
       "</table>\n",
       "</div>"
      ],
      "text/plain": [
       "          Date    Year        Type    Country             Area  \\\n",
       "3  08-Jun-2018  2018.0  Unprovoked  AUSTRALIA  New South Wales   \n",
       "\n",
       "             Location Activity  Name Sex  Age                     Injury  \\\n",
       "3  Arrawarra Headland  Surfing  male   M  NaN  Minor injury to lower leg   \n",
       "\n",
       "  Fatal (Y/N) Time                                       href formula  \\\n",
       "3           N  NaN  http://sharkattackfile.net/spreadsheets/pdf_di...   \n",
       "\n",
       "                                                href      Month month  Year1  \n",
       "3  http://sharkattackfile.net/spreadsheets/pdf_di...  08Jun2018   Jun   2018  "
      ]
     },
     "execution_count": 34,
     "metadata": {},
     "output_type": "execute_result"
    }
   ],
   "source": [
    "df_ozzie.head(1)"
   ]
  },
  {
   "cell_type": "markdown",
   "id": "2ec4dd38",
   "metadata": {},
   "source": [
    "## Dropping Columns: Year, Activity, Name, Sex, Age, Injury, href formula, href"
   ]
  },
  {
   "cell_type": "code",
   "execution_count": 35,
   "id": "2351f376",
   "metadata": {},
   "outputs": [
    {
     "data": {
      "text/plain": [
       "Index(['Date', 'Year', 'Type', 'Country', 'Area', 'Location', 'Activity',\n",
       "       'Name', 'Sex', 'Age', 'Injury', 'Fatal (Y/N)', 'Time', 'href formula',\n",
       "       'href', 'Month', 'month', 'Year1'],\n",
       "      dtype='object')"
      ]
     },
     "execution_count": 35,
     "metadata": {},
     "output_type": "execute_result"
    }
   ],
   "source": [
    "df_ozzie.columns"
   ]
  },
  {
   "cell_type": "code",
   "execution_count": 36,
   "id": "f2c5b7a8",
   "metadata": {},
   "outputs": [
    {
     "data": {
      "text/plain": [
       "Index(['Date', 'Year', 'Type', 'Country', 'Area', 'Location', 'Activity',\n",
       "       'Name', 'Sex', 'Age', 'Injury', 'Fatal (Y/N)', 'Time', 'href formula',\n",
       "       'href', 'Month', 'month', 'year'],\n",
       "      dtype='object')"
      ]
     },
     "execution_count": 36,
     "metadata": {},
     "output_type": "execute_result"
    }
   ],
   "source": [
    "#\n",
    "df_ozzie = df_ozzie.rename(columns={'Year1':'year'})\n",
    "df_ozzie.columns"
   ]
  },
  {
   "cell_type": "code",
   "execution_count": 37,
   "id": "9b33184a",
   "metadata": {},
   "outputs": [],
   "source": [
    "df_ozzie_1 = df_ozzie[['Country', 'Area','Fatal (Y/N)','month', 'year']]"
   ]
  },
  {
   "cell_type": "code",
   "execution_count": 38,
   "id": "55bd7a53",
   "metadata": {},
   "outputs": [
    {
     "data": {
      "text/html": [
       "<div>\n",
       "<style scoped>\n",
       "    .dataframe tbody tr th:only-of-type {\n",
       "        vertical-align: middle;\n",
       "    }\n",
       "\n",
       "    .dataframe tbody tr th {\n",
       "        vertical-align: top;\n",
       "    }\n",
       "\n",
       "    .dataframe thead th {\n",
       "        text-align: right;\n",
       "    }\n",
       "</style>\n",
       "<table border=\"1\" class=\"dataframe\">\n",
       "  <thead>\n",
       "    <tr style=\"text-align: right;\">\n",
       "      <th></th>\n",
       "      <th>Country</th>\n",
       "      <th>Area</th>\n",
       "      <th>Fatal (Y/N)</th>\n",
       "      <th>month</th>\n",
       "      <th>year</th>\n",
       "    </tr>\n",
       "  </thead>\n",
       "  <tbody>\n",
       "    <tr>\n",
       "      <th>3</th>\n",
       "      <td>AUSTRALIA</td>\n",
       "      <td>New South Wales</td>\n",
       "      <td>N</td>\n",
       "      <td>Jun</td>\n",
       "      <td>2018</td>\n",
       "    </tr>\n",
       "    <tr>\n",
       "      <th>5</th>\n",
       "      <td>AUSTRALIA</td>\n",
       "      <td>New South Wales</td>\n",
       "      <td>N</td>\n",
       "      <td>Jun</td>\n",
       "      <td>2018</td>\n",
       "    </tr>\n",
       "    <tr>\n",
       "      <th>10</th>\n",
       "      <td>AUSTRALIA</td>\n",
       "      <td>Queensland</td>\n",
       "      <td>N</td>\n",
       "      <td>May</td>\n",
       "      <td>2018</td>\n",
       "    </tr>\n",
       "    <tr>\n",
       "      <th>14</th>\n",
       "      <td>AUSTRALIA</td>\n",
       "      <td>Western Australia</td>\n",
       "      <td>N</td>\n",
       "      <td>May</td>\n",
       "      <td>2018</td>\n",
       "    </tr>\n",
       "    <tr>\n",
       "      <th>16</th>\n",
       "      <td>AUSTRALIA</td>\n",
       "      <td>New South Wales</td>\n",
       "      <td>N</td>\n",
       "      <td>May</td>\n",
       "      <td>2018</td>\n",
       "    </tr>\n",
       "    <tr>\n",
       "      <th>...</th>\n",
       "      <td>...</td>\n",
       "      <td>...</td>\n",
       "      <td>...</td>\n",
       "      <td>...</td>\n",
       "      <td>...</td>\n",
       "    </tr>\n",
       "    <tr>\n",
       "      <th>5265</th>\n",
       "      <td>AUSTRALIA</td>\n",
       "      <td>Northern Territory</td>\n",
       "      <td>N</td>\n",
       "      <td>Nov</td>\n",
       "      <td>1919</td>\n",
       "    </tr>\n",
       "    <tr>\n",
       "      <th>5270</th>\n",
       "      <td>AUSTRALIA</td>\n",
       "      <td>New South Wales</td>\n",
       "      <td>UNKNOWN</td>\n",
       "      <td>Mar</td>\n",
       "      <td>1919</td>\n",
       "    </tr>\n",
       "    <tr>\n",
       "      <th>5271</th>\n",
       "      <td>AUSTRALIA</td>\n",
       "      <td>New South Wales</td>\n",
       "      <td>N</td>\n",
       "      <td>Jan</td>\n",
       "      <td>1919</td>\n",
       "    </tr>\n",
       "    <tr>\n",
       "      <th>5273</th>\n",
       "      <td>AUSTRALIA</td>\n",
       "      <td>New South Wales</td>\n",
       "      <td>Y</td>\n",
       "      <td>Jan</td>\n",
       "      <td>1919</td>\n",
       "    </tr>\n",
       "    <tr>\n",
       "      <th>5274</th>\n",
       "      <td>AUSTRALIA</td>\n",
       "      <td>Queensland</td>\n",
       "      <td>Y</td>\n",
       "      <td>Jan</td>\n",
       "      <td>1919</td>\n",
       "    </tr>\n",
       "  </tbody>\n",
       "</table>\n",
       "<p>1079 rows × 5 columns</p>\n",
       "</div>"
      ],
      "text/plain": [
       "        Country                Area Fatal (Y/N) month  year\n",
       "3     AUSTRALIA     New South Wales           N   Jun  2018\n",
       "5     AUSTRALIA     New South Wales           N   Jun  2018\n",
       "10    AUSTRALIA          Queensland           N   May  2018\n",
       "14    AUSTRALIA   Western Australia           N   May  2018\n",
       "16    AUSTRALIA     New South Wales           N   May  2018\n",
       "...         ...                 ...         ...   ...   ...\n",
       "5265  AUSTRALIA  Northern Territory           N   Nov  1919\n",
       "5270  AUSTRALIA     New South Wales     UNKNOWN   Mar  1919\n",
       "5271  AUSTRALIA     New South Wales           N   Jan  1919\n",
       "5273  AUSTRALIA     New South Wales           Y   Jan  1919\n",
       "5274  AUSTRALIA          Queensland           Y   Jan  1919\n",
       "\n",
       "[1079 rows x 5 columns]"
      ]
     },
     "execution_count": 38,
     "metadata": {},
     "output_type": "execute_result"
    }
   ],
   "source": [
    "df_ozzie_1"
   ]
  },
  {
   "cell_type": "markdown",
   "id": "01347856",
   "metadata": {},
   "source": [
    "## Cleaning up Fatal column"
   ]
  },
  {
   "cell_type": "code",
   "execution_count": 39,
   "id": "6b12b6b5",
   "metadata": {},
   "outputs": [
    {
     "data": {
      "text/plain": [
       "array(['N', 'Y', nan, 'UNKNOWN', ' N'], dtype=object)"
      ]
     },
     "execution_count": 39,
     "metadata": {},
     "output_type": "execute_result"
    }
   ],
   "source": [
    "df_ozzie_1['Fatal (Y/N)'].unique()"
   ]
  },
  {
   "cell_type": "code",
   "execution_count": 40,
   "id": "be1e653c",
   "metadata": {},
   "outputs": [
    {
     "name": "stderr",
     "output_type": "stream",
     "text": [
      "<ipython-input-40-8d19eb9b7f8e>:1: SettingWithCopyWarning: \n",
      "A value is trying to be set on a copy of a slice from a DataFrame.\n",
      "Try using .loc[row_indexer,col_indexer] = value instead\n",
      "\n",
      "See the caveats in the documentation: https://pandas.pydata.org/pandas-docs/stable/user_guide/indexing.html#returning-a-view-versus-a-copy\n",
      "  df_ozzie_1['Fatal (Y/N)'] = df_ozzie_1['Fatal (Y/N)'].str.strip()\n"
     ]
    }
   ],
   "source": [
    "df_ozzie_1['Fatal (Y/N)'] = df_ozzie_1['Fatal (Y/N)'].str.strip()"
   ]
  },
  {
   "cell_type": "code",
   "execution_count": 42,
   "id": "e9655d39",
   "metadata": {
    "scrolled": true
   },
   "outputs": [
    {
     "data": {
      "text/plain": [
       "array(['N', 'Y', nan, 'UNKNOWN'], dtype=object)"
      ]
     },
     "execution_count": 42,
     "metadata": {},
     "output_type": "execute_result"
    }
   ],
   "source": [
    "df_ozzie_1['Fatal (Y/N)'].unique()"
   ]
  },
  {
   "cell_type": "code",
   "execution_count": 43,
   "id": "1ab82b5e",
   "metadata": {
    "scrolled": true
   },
   "outputs": [
    {
     "name": "stderr",
     "output_type": "stream",
     "text": [
      "C:\\Users\\bruno\\anaconda3\\lib\\site-packages\\pandas\\core\\frame.py:4441: SettingWithCopyWarning: \n",
      "A value is trying to be set on a copy of a slice from a DataFrame\n",
      "\n",
      "See the caveats in the documentation: https://pandas.pydata.org/pandas-docs/stable/user_guide/indexing.html#returning-a-view-versus-a-copy\n",
      "  return super().rename(\n"
     ]
    }
   ],
   "source": [
    "df_ozzie_1.rename(columns={'Fatal (Y/N)':'Fatal'}, inplace=True)"
   ]
  },
  {
   "cell_type": "code",
   "execution_count": 44,
   "id": "d130b299",
   "metadata": {},
   "outputs": [
    {
     "data": {
      "text/plain": [
       "Index(['Country', 'Area', 'Fatal', 'month', 'year'], dtype='object')"
      ]
     },
     "execution_count": 44,
     "metadata": {},
     "output_type": "execute_result"
    }
   ],
   "source": [
    "df_ozzie_1.columns"
   ]
  },
  {
   "cell_type": "code",
   "execution_count": 49,
   "id": "8c84777f",
   "metadata": {},
   "outputs": [],
   "source": [
    "def fatal(row):\n",
    "    if row['Fatal'] == ('Y'):\n",
    "        return 'Yes'\n",
    "    elif row['Fatal'] == ('N'):\n",
    "        return 'No'\n",
    "    elif row['Fatal'] == 'UNKNOWN':\n",
    "        return 'No'\n",
    "    elif pd.isnull(row['Fatal']) == True:\n",
    "        return None"
   ]
  },
  {
   "cell_type": "code",
   "execution_count": 52,
   "id": "08538185",
   "metadata": {},
   "outputs": [
    {
     "name": "stderr",
     "output_type": "stream",
     "text": [
      "<ipython-input-52-ab98dfbf1f15>:1: SettingWithCopyWarning: \n",
      "A value is trying to be set on a copy of a slice from a DataFrame.\n",
      "Try using .loc[row_indexer,col_indexer] = value instead\n",
      "\n",
      "See the caveats in the documentation: https://pandas.pydata.org/pandas-docs/stable/user_guide/indexing.html#returning-a-view-versus-a-copy\n",
      "  df_ozzie_1['Fatal'] = df_ozzie_1.apply(fatal, axis=1)\n"
     ]
    }
   ],
   "source": [
    "df_ozzie_1['Fatal'] = df_ozzie_1.apply(fatal, axis=1)"
   ]
  },
  {
   "cell_type": "code",
   "execution_count": 79,
   "id": "bdf3bec5",
   "metadata": {},
   "outputs": [
    {
     "data": {
      "text/html": [
       "<div>\n",
       "<style scoped>\n",
       "    .dataframe tbody tr th:only-of-type {\n",
       "        vertical-align: middle;\n",
       "    }\n",
       "\n",
       "    .dataframe tbody tr th {\n",
       "        vertical-align: top;\n",
       "    }\n",
       "\n",
       "    .dataframe thead th {\n",
       "        text-align: right;\n",
       "    }\n",
       "</style>\n",
       "<table border=\"1\" class=\"dataframe\">\n",
       "  <thead>\n",
       "    <tr style=\"text-align: right;\">\n",
       "      <th></th>\n",
       "      <th>Country</th>\n",
       "      <th>Area</th>\n",
       "      <th>Fatal</th>\n",
       "      <th>month</th>\n",
       "      <th>year</th>\n",
       "    </tr>\n",
       "  </thead>\n",
       "  <tbody>\n",
       "    <tr>\n",
       "      <th>3</th>\n",
       "      <td>AUSTRALIA</td>\n",
       "      <td>New South Wales</td>\n",
       "      <td>No</td>\n",
       "      <td>Jun</td>\n",
       "      <td>2018</td>\n",
       "    </tr>\n",
       "    <tr>\n",
       "      <th>5</th>\n",
       "      <td>AUSTRALIA</td>\n",
       "      <td>New South Wales</td>\n",
       "      <td>No</td>\n",
       "      <td>Jun</td>\n",
       "      <td>2018</td>\n",
       "    </tr>\n",
       "    <tr>\n",
       "      <th>10</th>\n",
       "      <td>AUSTRALIA</td>\n",
       "      <td>Queensland</td>\n",
       "      <td>No</td>\n",
       "      <td>May</td>\n",
       "      <td>2018</td>\n",
       "    </tr>\n",
       "    <tr>\n",
       "      <th>14</th>\n",
       "      <td>AUSTRALIA</td>\n",
       "      <td>Western Australia</td>\n",
       "      <td>No</td>\n",
       "      <td>May</td>\n",
       "      <td>2018</td>\n",
       "    </tr>\n",
       "    <tr>\n",
       "      <th>16</th>\n",
       "      <td>AUSTRALIA</td>\n",
       "      <td>New South Wales</td>\n",
       "      <td>No</td>\n",
       "      <td>May</td>\n",
       "      <td>2018</td>\n",
       "    </tr>\n",
       "    <tr>\n",
       "      <th>...</th>\n",
       "      <td>...</td>\n",
       "      <td>...</td>\n",
       "      <td>...</td>\n",
       "      <td>...</td>\n",
       "      <td>...</td>\n",
       "    </tr>\n",
       "    <tr>\n",
       "      <th>5265</th>\n",
       "      <td>AUSTRALIA</td>\n",
       "      <td>Northern Territory</td>\n",
       "      <td>No</td>\n",
       "      <td>Nov</td>\n",
       "      <td>1919</td>\n",
       "    </tr>\n",
       "    <tr>\n",
       "      <th>5270</th>\n",
       "      <td>AUSTRALIA</td>\n",
       "      <td>New South Wales</td>\n",
       "      <td>No</td>\n",
       "      <td>Mar</td>\n",
       "      <td>1919</td>\n",
       "    </tr>\n",
       "    <tr>\n",
       "      <th>5271</th>\n",
       "      <td>AUSTRALIA</td>\n",
       "      <td>New South Wales</td>\n",
       "      <td>No</td>\n",
       "      <td>Jan</td>\n",
       "      <td>1919</td>\n",
       "    </tr>\n",
       "    <tr>\n",
       "      <th>5273</th>\n",
       "      <td>AUSTRALIA</td>\n",
       "      <td>New South Wales</td>\n",
       "      <td>Yes</td>\n",
       "      <td>Jan</td>\n",
       "      <td>1919</td>\n",
       "    </tr>\n",
       "    <tr>\n",
       "      <th>5274</th>\n",
       "      <td>AUSTRALIA</td>\n",
       "      <td>Queensland</td>\n",
       "      <td>Yes</td>\n",
       "      <td>Jan</td>\n",
       "      <td>1919</td>\n",
       "    </tr>\n",
       "  </tbody>\n",
       "</table>\n",
       "<p>1079 rows × 5 columns</p>\n",
       "</div>"
      ],
      "text/plain": [
       "        Country                Area Fatal month  year\n",
       "3     AUSTRALIA     New South Wales    No   Jun  2018\n",
       "5     AUSTRALIA     New South Wales    No   Jun  2018\n",
       "10    AUSTRALIA          Queensland    No   May  2018\n",
       "14    AUSTRALIA   Western Australia    No   May  2018\n",
       "16    AUSTRALIA     New South Wales    No   May  2018\n",
       "...         ...                 ...   ...   ...   ...\n",
       "5265  AUSTRALIA  Northern Territory    No   Nov  1919\n",
       "5270  AUSTRALIA     New South Wales    No   Mar  1919\n",
       "5271  AUSTRALIA     New South Wales    No   Jan  1919\n",
       "5273  AUSTRALIA     New South Wales   Yes   Jan  1919\n",
       "5274  AUSTRALIA          Queensland   Yes   Jan  1919\n",
       "\n",
       "[1079 rows x 5 columns]"
      ]
     },
     "execution_count": 79,
     "metadata": {},
     "output_type": "execute_result"
    }
   ],
   "source": [
    "df_ozzie_1"
   ]
  },
  {
   "cell_type": "code",
   "execution_count": 108,
   "id": "0b06c124",
   "metadata": {},
   "outputs": [],
   "source": [
    "# Passing columns to lower case\n",
    "df_ozzie_1 = df_ozzie_1.rename(columns={'Country':'country', 'area':'state', 'Fatal':'fatal'})"
   ]
  },
  {
   "cell_type": "code",
   "execution_count": 109,
   "id": "82036e9e",
   "metadata": {},
   "outputs": [],
   "source": [
    "#df = df[[\"C\", \"A\", \"B\"]]\n",
    "\n",
    "df_ozzie_1 = df_ozzie_1[['year', 'month', 'country', 'state', 'fatal']]"
   ]
  },
  {
   "cell_type": "code",
   "execution_count": 116,
   "id": "7d43127b",
   "metadata": {},
   "outputs": [
    {
     "data": {
      "text/plain": [
       "2018"
      ]
     },
     "execution_count": 116,
     "metadata": {},
     "output_type": "execute_result"
    }
   ],
   "source": [
    "df_ozzie_1['year'].max()"
   ]
  },
  {
   "cell_type": "markdown",
   "id": "0a343781",
   "metadata": {},
   "source": [
    "## Creating Decade Column"
   ]
  },
  {
   "cell_type": "code",
   "execution_count": 160,
   "id": "be01171f",
   "metadata": {},
   "outputs": [],
   "source": [
    "# creating a function to define the decades \n",
    "\n",
    "def decada(ano):\n",
    "    if ano >=1919 and ano <= 1929:\n",
    "        return '1919-1929'\n",
    "    elif ano >1929 and ano <= 1939:\n",
    "        return '1929-1939'\n",
    "    elif ano >1939 and ano <= 1949:\n",
    "        return '1939-1949'\n",
    "    elif ano > 1949 and ano <= 1959:\n",
    "        return '1949-1959'\n",
    "    elif ano > 1959 and ano <= 1969:\n",
    "        return '1959-1969'\n",
    "    elif ano > 1969 and ano <= 1979:\n",
    "        return '1969-1979'\n",
    "    elif ano > 1979 and ano <= 1989:\n",
    "        return '1979-1989'\n",
    "    elif ano > 1989 and ano <= 1999:\n",
    "        return '1989-1999'\n",
    "    elif ano > 1999 and ano <= 2009:\n",
    "        return '1999-2009'\n",
    "    elif ano > 2009 and ano <= 2019:\n",
    "        return '2009-2019'"
   ]
  },
  {
   "cell_type": "code",
   "execution_count": 161,
   "id": "a3d8ad32",
   "metadata": {},
   "outputs": [],
   "source": [
    "df_ozzie_1['decade'] = df_ozzie_1['year'].map(decada)"
   ]
  },
  {
   "cell_type": "code",
   "execution_count": 162,
   "id": "6c00b415",
   "metadata": {},
   "outputs": [
    {
     "data": {
      "text/html": [
       "<div>\n",
       "<style scoped>\n",
       "    .dataframe tbody tr th:only-of-type {\n",
       "        vertical-align: middle;\n",
       "    }\n",
       "\n",
       "    .dataframe tbody tr th {\n",
       "        vertical-align: top;\n",
       "    }\n",
       "\n",
       "    .dataframe thead th {\n",
       "        text-align: right;\n",
       "    }\n",
       "</style>\n",
       "<table border=\"1\" class=\"dataframe\">\n",
       "  <thead>\n",
       "    <tr style=\"text-align: right;\">\n",
       "      <th></th>\n",
       "      <th>year</th>\n",
       "      <th>month</th>\n",
       "      <th>country</th>\n",
       "      <th>state</th>\n",
       "      <th>fatal</th>\n",
       "      <th>decade</th>\n",
       "    </tr>\n",
       "  </thead>\n",
       "  <tbody>\n",
       "    <tr>\n",
       "      <th>3</th>\n",
       "      <td>2018</td>\n",
       "      <td>Jun</td>\n",
       "      <td>AUSTRALIA</td>\n",
       "      <td>New South Wales</td>\n",
       "      <td>No</td>\n",
       "      <td>2009-2019</td>\n",
       "    </tr>\n",
       "    <tr>\n",
       "      <th>5</th>\n",
       "      <td>2018</td>\n",
       "      <td>Jun</td>\n",
       "      <td>AUSTRALIA</td>\n",
       "      <td>New South Wales</td>\n",
       "      <td>No</td>\n",
       "      <td>2009-2019</td>\n",
       "    </tr>\n",
       "    <tr>\n",
       "      <th>10</th>\n",
       "      <td>2018</td>\n",
       "      <td>May</td>\n",
       "      <td>AUSTRALIA</td>\n",
       "      <td>Queensland</td>\n",
       "      <td>No</td>\n",
       "      <td>2009-2019</td>\n",
       "    </tr>\n",
       "    <tr>\n",
       "      <th>14</th>\n",
       "      <td>2018</td>\n",
       "      <td>May</td>\n",
       "      <td>AUSTRALIA</td>\n",
       "      <td>Western Australia</td>\n",
       "      <td>No</td>\n",
       "      <td>2009-2019</td>\n",
       "    </tr>\n",
       "    <tr>\n",
       "      <th>16</th>\n",
       "      <td>2018</td>\n",
       "      <td>May</td>\n",
       "      <td>AUSTRALIA</td>\n",
       "      <td>New South Wales</td>\n",
       "      <td>No</td>\n",
       "      <td>2009-2019</td>\n",
       "    </tr>\n",
       "    <tr>\n",
       "      <th>...</th>\n",
       "      <td>...</td>\n",
       "      <td>...</td>\n",
       "      <td>...</td>\n",
       "      <td>...</td>\n",
       "      <td>...</td>\n",
       "      <td>...</td>\n",
       "    </tr>\n",
       "    <tr>\n",
       "      <th>5265</th>\n",
       "      <td>1919</td>\n",
       "      <td>Nov</td>\n",
       "      <td>AUSTRALIA</td>\n",
       "      <td>Northern Territory</td>\n",
       "      <td>No</td>\n",
       "      <td>1919-1929</td>\n",
       "    </tr>\n",
       "    <tr>\n",
       "      <th>5270</th>\n",
       "      <td>1919</td>\n",
       "      <td>Mar</td>\n",
       "      <td>AUSTRALIA</td>\n",
       "      <td>New South Wales</td>\n",
       "      <td>No</td>\n",
       "      <td>1919-1929</td>\n",
       "    </tr>\n",
       "    <tr>\n",
       "      <th>5271</th>\n",
       "      <td>1919</td>\n",
       "      <td>Jan</td>\n",
       "      <td>AUSTRALIA</td>\n",
       "      <td>New South Wales</td>\n",
       "      <td>No</td>\n",
       "      <td>1919-1929</td>\n",
       "    </tr>\n",
       "    <tr>\n",
       "      <th>5273</th>\n",
       "      <td>1919</td>\n",
       "      <td>Jan</td>\n",
       "      <td>AUSTRALIA</td>\n",
       "      <td>New South Wales</td>\n",
       "      <td>Yes</td>\n",
       "      <td>1919-1929</td>\n",
       "    </tr>\n",
       "    <tr>\n",
       "      <th>5274</th>\n",
       "      <td>1919</td>\n",
       "      <td>Jan</td>\n",
       "      <td>AUSTRALIA</td>\n",
       "      <td>Queensland</td>\n",
       "      <td>Yes</td>\n",
       "      <td>1919-1929</td>\n",
       "    </tr>\n",
       "  </tbody>\n",
       "</table>\n",
       "<p>1079 rows × 6 columns</p>\n",
       "</div>"
      ],
      "text/plain": [
       "      year month    country               state fatal     decade\n",
       "3     2018   Jun  AUSTRALIA     New South Wales    No  2009-2019\n",
       "5     2018   Jun  AUSTRALIA     New South Wales    No  2009-2019\n",
       "10    2018   May  AUSTRALIA          Queensland    No  2009-2019\n",
       "14    2018   May  AUSTRALIA   Western Australia    No  2009-2019\n",
       "16    2018   May  AUSTRALIA     New South Wales    No  2009-2019\n",
       "...    ...   ...        ...                 ...   ...        ...\n",
       "5265  1919   Nov  AUSTRALIA  Northern Territory    No  1919-1929\n",
       "5270  1919   Mar  AUSTRALIA     New South Wales    No  1919-1929\n",
       "5271  1919   Jan  AUSTRALIA     New South Wales    No  1919-1929\n",
       "5273  1919   Jan  AUSTRALIA     New South Wales   Yes  1919-1929\n",
       "5274  1919   Jan  AUSTRALIA          Queensland   Yes  1919-1929\n",
       "\n",
       "[1079 rows x 6 columns]"
      ]
     },
     "execution_count": 162,
     "metadata": {},
     "output_type": "execute_result"
    }
   ],
   "source": [
    "df_ozzie_1"
   ]
  },
  {
   "cell_type": "markdown",
   "id": "14e0fed6",
   "metadata": {},
   "source": [
    "## Insights"
   ]
  },
  {
   "cell_type": "code",
   "execution_count": 163,
   "id": "83b2c72c",
   "metadata": {},
   "outputs": [
    {
     "data": {
      "text/plain": [
       "2009-2019    222\n",
       "1999-2009    170\n",
       "1959-1969    130\n",
       "1929-1939    126\n",
       "1919-1929     95\n",
       "1949-1959     93\n",
       "1939-1949     73\n",
       "1989-1999     69\n",
       "1969-1979     57\n",
       "1979-1989     44\n",
       "Name: decade, dtype: int64"
      ]
     },
     "execution_count": 163,
     "metadata": {},
     "output_type": "execute_result"
    }
   ],
   "source": [
    "# Checking SHARK ATTACKS per decade - IT'S INCREASING !!!\n",
    "\n",
    "df_ozzie_1['decade'].value_counts()"
   ]
  },
  {
   "cell_type": "code",
   "execution_count": 222,
   "id": "089ff5c8",
   "metadata": {},
   "outputs": [
    {
     "data": {
      "text/plain": [
       "New South Wales       388\n",
       "Queensland            313\n",
       "Western Australia     171\n",
       "South Australia        88\n",
       "Victoria               68\n",
       "Tasmania               30\n",
       "Northern Territory     21\n",
       "Name: state, dtype: int64"
      ]
     },
     "execution_count": 222,
     "metadata": {},
     "output_type": "execute_result"
    }
   ],
   "source": [
    "# Total SHARK ATTACKS per state\n",
    "\n",
    "df_ozzie_1['state'].value_counts()"
   ]
  },
  {
   "cell_type": "code",
   "execution_count": 247,
   "id": "a75db63b",
   "metadata": {},
   "outputs": [
    {
     "data": {
      "text/plain": [
       "Jan    169\n",
       "Dec    146\n",
       "Feb    129\n",
       "Mar    107\n",
       "Nov    106\n",
       "Apr     94\n",
       "Oct     83\n",
       "Jun     54\n",
       "Aug     50\n",
       "May     50\n",
       "Sep     49\n",
       "Jul     42\n",
       "Name: month, dtype: int64"
      ]
     },
     "execution_count": 247,
     "metadata": {},
     "output_type": "execute_result"
    }
   ],
   "source": [
    "# Total SHARK ATTACKS per month\n",
    "\n",
    "df_ozzie_1['month'].value_counts()"
   ]
  },
  {
   "cell_type": "code",
   "execution_count": 251,
   "id": "9eac261e",
   "metadata": {},
   "outputs": [],
   "source": [
    "au_areas = df_ozzie_1.query('state in [\"New South Wales\",\"Queensland\",\"Western Australia\",\"South Australia\"]')\n",
    "#au = df1.query('Area in [\"New South Wales\",\"Queensland\"]')"
   ]
  },
  {
   "cell_type": "code",
   "execution_count": 253,
   "id": "a622f1e8",
   "metadata": {},
   "outputs": [
    {
     "data": {
      "text/plain": [
       "state\n",
       "New South Wales      0.144330\n",
       "Queensland           0.233227\n",
       "South Australia      0.227273\n",
       "Western Australia    0.134503\n",
       "Name: fatal, dtype: float64"
      ]
     },
     "execution_count": 253,
     "metadata": {},
     "output_type": "execute_result"
    }
   ],
   "source": [
    "# The most dangerous state: Queensland\n",
    "\n",
    "au_areas.groupby('state').fatal.apply(lambda x: (x=='Yes').mean())"
   ]
  },
  {
   "cell_type": "markdown",
   "id": "863187ec",
   "metadata": {},
   "source": [
    "![title](qld.jpg)"
   ]
  },
  {
   "cell_type": "code",
   "execution_count": null,
   "id": "c6698351",
   "metadata": {},
   "outputs": [],
   "source": [
    "# I WISH TO DO THAT !\n",
    "\n",
    "#df_ozzie_1[df_ozzie_1['state'] == 'New South Wales' == '1919-1929'].sum()"
   ]
  },
  {
   "cell_type": "code",
   "execution_count": 215,
   "id": "39c70dd8",
   "metadata": {},
   "outputs": [
    {
     "data": {
      "text/html": [
       "<div>\n",
       "<style scoped>\n",
       "    .dataframe tbody tr th:only-of-type {\n",
       "        vertical-align: middle;\n",
       "    }\n",
       "\n",
       "    .dataframe tbody tr th {\n",
       "        vertical-align: top;\n",
       "    }\n",
       "\n",
       "    .dataframe thead th {\n",
       "        text-align: right;\n",
       "    }\n",
       "</style>\n",
       "<table border=\"1\" class=\"dataframe\">\n",
       "  <thead>\n",
       "    <tr style=\"text-align: right;\">\n",
       "      <th></th>\n",
       "      <th></th>\n",
       "      <th>year</th>\n",
       "      <th>month</th>\n",
       "      <th>country</th>\n",
       "      <th>fatal</th>\n",
       "    </tr>\n",
       "    <tr>\n",
       "      <th>state</th>\n",
       "      <th>decade</th>\n",
       "      <th></th>\n",
       "      <th></th>\n",
       "      <th></th>\n",
       "      <th></th>\n",
       "    </tr>\n",
       "  </thead>\n",
       "  <tbody>\n",
       "    <tr>\n",
       "      <th rowspan=\"5\" valign=\"top\">New South Wales</th>\n",
       "      <th>1919-1929</th>\n",
       "      <td>36</td>\n",
       "      <td>36</td>\n",
       "      <td>36</td>\n",
       "      <td>32</td>\n",
       "    </tr>\n",
       "    <tr>\n",
       "      <th>1929-1939</th>\n",
       "      <td>50</td>\n",
       "      <td>50</td>\n",
       "      <td>50</td>\n",
       "      <td>45</td>\n",
       "    </tr>\n",
       "    <tr>\n",
       "      <th>1939-1949</th>\n",
       "      <td>30</td>\n",
       "      <td>30</td>\n",
       "      <td>30</td>\n",
       "      <td>27</td>\n",
       "    </tr>\n",
       "    <tr>\n",
       "      <th>1949-1959</th>\n",
       "      <td>32</td>\n",
       "      <td>32</td>\n",
       "      <td>32</td>\n",
       "      <td>29</td>\n",
       "    </tr>\n",
       "    <tr>\n",
       "      <th>1959-1969</th>\n",
       "      <td>48</td>\n",
       "      <td>48</td>\n",
       "      <td>48</td>\n",
       "      <td>42</td>\n",
       "    </tr>\n",
       "    <tr>\n",
       "      <th>...</th>\n",
       "      <th>...</th>\n",
       "      <td>...</td>\n",
       "      <td>...</td>\n",
       "      <td>...</td>\n",
       "      <td>...</td>\n",
       "    </tr>\n",
       "    <tr>\n",
       "      <th rowspan=\"5\" valign=\"top\">Western Australia</th>\n",
       "      <th>1969-1979</th>\n",
       "      <td>3</td>\n",
       "      <td>3</td>\n",
       "      <td>3</td>\n",
       "      <td>3</td>\n",
       "    </tr>\n",
       "    <tr>\n",
       "      <th>1979-1989</th>\n",
       "      <td>9</td>\n",
       "      <td>9</td>\n",
       "      <td>9</td>\n",
       "      <td>9</td>\n",
       "    </tr>\n",
       "    <tr>\n",
       "      <th>1989-1999</th>\n",
       "      <td>11</td>\n",
       "      <td>11</td>\n",
       "      <td>11</td>\n",
       "      <td>11</td>\n",
       "    </tr>\n",
       "    <tr>\n",
       "      <th>1999-2009</th>\n",
       "      <td>26</td>\n",
       "      <td>26</td>\n",
       "      <td>26</td>\n",
       "      <td>23</td>\n",
       "    </tr>\n",
       "    <tr>\n",
       "      <th>2009-2019</th>\n",
       "      <td>69</td>\n",
       "      <td>69</td>\n",
       "      <td>69</td>\n",
       "      <td>66</td>\n",
       "    </tr>\n",
       "  </tbody>\n",
       "</table>\n",
       "<p>66 rows × 4 columns</p>\n",
       "</div>"
      ],
      "text/plain": [
       "                             year  month  country  fatal\n",
       "state             decade                                \n",
       "New South Wales   1919-1929    36     36       36     32\n",
       "                  1929-1939    50     50       50     45\n",
       "                  1939-1949    30     30       30     27\n",
       "                  1949-1959    32     32       32     29\n",
       "                  1959-1969    48     48       48     42\n",
       "...                           ...    ...      ...    ...\n",
       "Western Australia 1969-1979     3      3        3      3\n",
       "                  1979-1989     9      9        9      9\n",
       "                  1989-1999    11     11       11     11\n",
       "                  1999-2009    26     26       26     23\n",
       "                  2009-2019    69     69       69     66\n",
       "\n",
       "[66 rows x 4 columns]"
      ]
     },
     "execution_count": 215,
     "metadata": {},
     "output_type": "execute_result"
    }
   ],
   "source": [
    "# Total cases per state in each decade\n",
    "df_ozzie_1.groupby(['state','decade']).count()"
   ]
  },
  {
   "cell_type": "code",
   "execution_count": null,
   "id": "26dddcd5",
   "metadata": {},
   "outputs": [],
   "source": []
  },
  {
   "cell_type": "code",
   "execution_count": null,
   "id": "5f3f15f1",
   "metadata": {},
   "outputs": [],
   "source": []
  },
  {
   "cell_type": "code",
   "execution_count": 41,
   "id": "ea9de838",
   "metadata": {},
   "outputs": [],
   "source": []
  },
  {
   "cell_type": "code",
   "execution_count": null,
   "id": "4a23f6c1",
   "metadata": {},
   "outputs": [],
   "source": []
  }
 ],
 "metadata": {
  "kernelspec": {
   "display_name": "Python 3",
   "language": "python",
   "name": "python3"
  },
  "language_info": {
   "codemirror_mode": {
    "name": "ipython",
    "version": 3
   },
   "file_extension": ".py",
   "mimetype": "text/x-python",
   "name": "python",
   "nbconvert_exporter": "python",
   "pygments_lexer": "ipython3",
   "version": "3.8.8"
  }
 },
 "nbformat": 4,
 "nbformat_minor": 5
}
